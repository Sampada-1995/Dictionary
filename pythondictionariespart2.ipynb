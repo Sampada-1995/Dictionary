{
  "nbformat": 4,
  "nbformat_minor": 0,
  "metadata": {
    "colab": {
      "name": "pythondictionariespart2.ipynb",
      "provenance": [],
      "collapsed_sections": [],
      "authorship_tag": "ABX9TyMe7aIG1tm4GEw2V4xmPzl/",
      "include_colab_link": true
    },
    "kernelspec": {
      "name": "python3",
      "display_name": "Python 3"
    },
    "language_info": {
      "name": "python"
    }
  },
  "cells": [
    {
      "cell_type": "markdown",
      "metadata": {
        "id": "view-in-github",
        "colab_type": "text"
      },
      "source": [
        "<a href=\"https://colab.research.google.com/github/Sampada-1995/Dictionary/blob/main/pythondictionariespart2.ipynb\" target=\"_parent\"><img src=\"https://colab.research.google.com/assets/colab-badge.svg\" alt=\"Open In Colab\"/></a>"
      ]
    },
    {
      "cell_type": "code",
      "execution_count": 13,
      "metadata": {
        "colab": {
          "base_uri": "https://localhost:8080/"
        },
        "id": "QDE_5dtuOtd4",
        "outputId": "b5797e91-6654-44a2-9ac3-b07434873335"
      },
      "outputs": [
        {
          "output_type": "stream",
          "name": "stdout",
          "text": [
            "Name\n",
            "Age\n",
            "Qualification\n"
          ]
        }
      ],
      "source": [
        "thisdictionary={\"Name\":\"John\", \"Age\": 30, \"Qualification\": \"BE\"}\n",
        "for x in thisdictionary:\n",
        "    print(x)"
      ]
    },
    {
      "cell_type": "code",
      "source": [
        "for x in thisdictionary:\n",
        "  print(thisdictionary[x])"
      ],
      "metadata": {
        "colab": {
          "base_uri": "https://localhost:8080/"
        },
        "id": "FEzDQFj0Pe2X",
        "outputId": "51fe0a6e-e9ed-425b-a152-a30db2260ecd"
      },
      "execution_count": 4,
      "outputs": [
        {
          "output_type": "stream",
          "name": "stdout",
          "text": [
            "John\n",
            "30\n",
            "BE\n"
          ]
        }
      ]
    },
    {
      "cell_type": "code",
      "source": [
        "for x in thisdictionary.keys():\n",
        "  print(x)"
      ],
      "metadata": {
        "colab": {
          "base_uri": "https://localhost:8080/"
        },
        "id": "zSPerix6QCzk",
        "outputId": "5f054c76-d178-4aa6-8e5c-0cf77d51fa36"
      },
      "execution_count": 8,
      "outputs": [
        {
          "output_type": "stream",
          "name": "stdout",
          "text": [
            "Name\n",
            "Age\n",
            "Qualification\n"
          ]
        }
      ]
    },
    {
      "cell_type": "code",
      "source": [
        "for x in thisdictionary.values():\n",
        "  print(x)\n"
      ],
      "metadata": {
        "colab": {
          "base_uri": "https://localhost:8080/"
        },
        "id": "E9HoccvWQTRk",
        "outputId": "cb58c271-39bf-4530-a1b5-d9c58f7e07d2"
      },
      "execution_count": 6,
      "outputs": [
        {
          "output_type": "stream",
          "name": "stdout",
          "text": [
            "John\n",
            "30\n",
            "BE\n"
          ]
        }
      ]
    },
    {
      "cell_type": "code",
      "source": [
        "x=thisdictionary.items()\n",
        "thisdictionary"
      ],
      "metadata": {
        "colab": {
          "base_uri": "https://localhost:8080/"
        },
        "id": "xtho2_KTRF4V",
        "outputId": "f9d0d0a4-5f3a-45dd-f111-5dada1fc4091"
      },
      "execution_count": 10,
      "outputs": [
        {
          "output_type": "execute_result",
          "data": {
            "text/plain": [
              "{'Age': 30, 'Name': 'John', 'Qualification': 'BE'}"
            ]
          },
          "metadata": {},
          "execution_count": 10
        }
      ]
    },
    {
      "cell_type": "code",
      "source": [
        "mydict=thisdictionary.copy()\n",
        "mydict"
      ],
      "metadata": {
        "colab": {
          "base_uri": "https://localhost:8080/"
        },
        "id": "yPt3IEiCRZoB",
        "outputId": "af79f604-d9e6-490f-c35d-902984e63cb1"
      },
      "execution_count": 16,
      "outputs": [
        {
          "output_type": "execute_result",
          "data": {
            "text/plain": [
              "{'Age': 30, 'Name': 'John', 'Qualification': 'BE'}"
            ]
          },
          "metadata": {},
          "execution_count": 16
        }
      ]
    },
    {
      "cell_type": "code",
      "source": [
        "myfamily={\n",
        "    \"Child 1\":{\n",
        "        \"Name\":\"Emil\",\n",
        "        \"Year\":24},\n",
        "    \"Child 2\":{\n",
        "        \"Name\": \"John\",\n",
        "        \"Year\": 22}\n",
        "    }"
      ],
      "metadata": {
        "id": "qqGKRocMR5gC"
      },
      "execution_count": 17,
      "outputs": []
    }
  ]
}