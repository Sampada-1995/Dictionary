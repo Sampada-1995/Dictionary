{
  "nbformat": 4,
  "nbformat_minor": 0,
  "metadata": {
    "colab": {
      "name": "List Methods.ipynb",
      "provenance": [],
      "collapsed_sections": [],
      "authorship_tag": "ABX9TyMOLmRDBdmR8NbBALxX7LtR",
      "include_colab_link": true
    },
    "kernelspec": {
      "name": "python3",
      "display_name": "Python 3"
    },
    "language_info": {
      "name": "python"
    }
  },
  "cells": [
    {
      "cell_type": "markdown",
      "metadata": {
        "id": "view-in-github",
        "colab_type": "text"
      },
      "source": [
        "<a href=\"https://colab.research.google.com/github/Sampada-1995/Dictionary/blob/main/List_Methods.ipynb\" target=\"_parent\"><img src=\"https://colab.research.google.com/assets/colab-badge.svg\" alt=\"Open In Colab\"/></a>"
      ]
    },
    {
      "cell_type": "code",
      "execution_count": null,
      "metadata": {
        "colab": {
          "base_uri": "https://localhost:8080/"
        },
        "id": "d4g1LKdbya56",
        "outputId": "6467a212-4ca7-4fd0-e0e0-09e318b36f3c"
      },
      "outputs": [
        {
          "output_type": "stream",
          "name": "stdout",
          "text": [
            "['banana', 'Cherry', 'Guava', 'Graps', 'mango']\n"
          ]
        }
      ],
      "source": [
        "mylist=[\"banana\", \"Cherry\", \"Guava\", \"Grapes\"]\n",
        "mylist.append(\"mango\")\n",
        "print (mylist)\n"
      ]
    },
    {
      "cell_type": "code",
      "source": [
        "mylist=[\"banana\", \"Cherry\", \"Guava\", \"Grapes\"]\n",
        "mylist.clear()\n",
        "print(mylist)"
      ],
      "metadata": {
        "colab": {
          "base_uri": "https://localhost:8080/"
        },
        "id": "8aFNpzq45luh",
        "outputId": "d2d4002d-a73b-451e-a045-af405c22180e"
      },
      "execution_count": null,
      "outputs": [
        {
          "output_type": "stream",
          "name": "stdout",
          "text": [
            "[]\n"
          ]
        }
      ]
    },
    {
      "cell_type": "code",
      "source": [
        "mylist=[\"banana\", \"Cherry\", \"Guava\", \"Grapes\"]\n",
        "list=mylist.copy()\n",
        "print(mylist)"
      ],
      "metadata": {
        "colab": {
          "base_uri": "https://localhost:8080/"
        },
        "id": "3Ourxg2a6K-E",
        "outputId": "353bc46b-1a6e-4f46-8c22-22fe8664f49b"
      },
      "execution_count": null,
      "outputs": [
        {
          "output_type": "stream",
          "name": "stdout",
          "text": [
            "['banana', 'Cherry', 'Guava', 'Grapes']\n"
          ]
        }
      ]
    },
    {
      "cell_type": "code",
      "source": [
        "mylist=[\"banana\", \"Cherry\", \"Guava\", \"Grapes\"]\n",
        "list=mylist.count(0)\n",
        "print(mylist)"
      ],
      "metadata": {
        "colab": {
          "base_uri": "https://localhost:8080/"
        },
        "id": "yAPsfFFG6iB6",
        "outputId": "5d25581d-e49c-412b-f687-b80bce62cecb"
      },
      "execution_count": null,
      "outputs": [
        {
          "output_type": "stream",
          "name": "stdout",
          "text": [
            "['banana', 'Cherry', 'Guava', 'Grapes']\n"
          ]
        }
      ]
    },
    {
      "cell_type": "code",
      "source": [
        "mylist=[\"banana\", \"Cherry\", \"Guava\", \"Grapes\"]\n",
        "thislist=[\"Papaya\", \"mango\"]\n",
        "mylist.extend(thislist)\n",
        "print (mylist)\n"
      ],
      "metadata": {
        "colab": {
          "base_uri": "https://localhost:8080/"
        },
        "id": "Lrtqx2p167sU",
        "outputId": "b51fc630-33e0-4433-f005-467369844154"
      },
      "execution_count": null,
      "outputs": [
        {
          "output_type": "stream",
          "name": "stdout",
          "text": [
            "['banana', 'Cherry', 'Guava', 'Grapes', 'Papaya', 'mango']\n"
          ]
        }
      ]
    },
    {
      "cell_type": "code",
      "source": [
        "mylist=[\"banana\", \"Cherry\", \"Guava\", \"Grapes\"]\n",
        "mylist.insert(1, \"mango\")\n",
        "print(mylist)"
      ],
      "metadata": {
        "colab": {
          "base_uri": "https://localhost:8080/"
        },
        "id": "Vn97RAEM8gti",
        "outputId": "43c7fea1-c801-4a2d-e6ae-83cd1e4627b6"
      },
      "execution_count": null,
      "outputs": [
        {
          "output_type": "stream",
          "name": "stdout",
          "text": [
            "['banana', 'mango', 'Cherry', 'Guava', 'Grapes']\n"
          ]
        }
      ]
    },
    {
      "cell_type": "code",
      "source": [
        "mylist=[\"banana\", \"Cherry\", \"Guava\", \"Grapes\"]\n",
        "mylist.pop(2)\n",
        "print(mylist)"
      ],
      "metadata": {
        "colab": {
          "base_uri": "https://localhost:8080/"
        },
        "id": "YC_IopFV9asA",
        "outputId": "aa63a1b8-53b4-4c26-ae94-e1de4fcabb92"
      },
      "execution_count": null,
      "outputs": [
        {
          "output_type": "stream",
          "name": "stdout",
          "text": [
            "['banana', 'Cherry', 'Grapes']\n"
          ]
        }
      ]
    },
    {
      "cell_type": "code",
      "source": [
        "mylist=[\"banana\", \"Cherry\", \"Guava\", \"Grapes\"]\n",
        "mylist.remove(\"Cherry\")\n",
        "print(mylist)"
      ],
      "metadata": {
        "colab": {
          "base_uri": "https://localhost:8080/"
        },
        "id": "iTwImrB79nsF",
        "outputId": "e97acbf5-43ee-4e83-e30c-0984fecd8c3f"
      },
      "execution_count": null,
      "outputs": [
        {
          "output_type": "stream",
          "name": "stdout",
          "text": [
            "['banana', 'Guava', 'Grapes']\n"
          ]
        }
      ]
    },
    {
      "cell_type": "code",
      "source": [
        "mylist=[\"banana\", \"Cherry\", \"Guava\", \"Grapes\"]\n",
        "mylist.reverse()\n",
        "print(mylist)"
      ],
      "metadata": {
        "colab": {
          "base_uri": "https://localhost:8080/"
        },
        "id": "Yi6oLnaG94m2",
        "outputId": "2dd70d83-e560-44b2-a8cb-ac5c80643940"
      },
      "execution_count": null,
      "outputs": [
        {
          "output_type": "stream",
          "name": "stdout",
          "text": [
            "['Grapes', 'Guava', 'Cherry', 'banana']\n"
          ]
        }
      ]
    },
    {
      "cell_type": "code",
      "source": [
        "mylist=[\"Banana\", \"Cherry\", \"Guava\", \"Grapes\"]\n",
        "mylist.sort()\n",
        "print(mylist)"
      ],
      "metadata": {
        "colab": {
          "base_uri": "https://localhost:8080/"
        },
        "id": "zj7Q8VHc-B6m",
        "outputId": "8db61d71-0007-445e-9f95-9fd178dce2fa"
      },
      "execution_count": null,
      "outputs": [
        {
          "output_type": "stream",
          "name": "stdout",
          "text": [
            "['Banana', 'Cherry', 'Grapes', 'Guava']\n"
          ]
        }
      ]
    },
    {
      "cell_type": "code",
      "source": [
        "mylist=[\"Banana\", \"Cherry\", \"Guava\", \"Grapes\"]\n",
        "mylist.index(\"Cherry\")"
      ],
      "metadata": {
        "colab": {
          "base_uri": "https://localhost:8080/"
        },
        "id": "LGKGl1Hq-pjR",
        "outputId": "cf5f5a91-309f-418a-b218-713d09edc9c9"
      },
      "execution_count": null,
      "outputs": [
        {
          "output_type": "execute_result",
          "data": {
            "text/plain": [
              "1"
            ]
          },
          "metadata": {},
          "execution_count": 28
        }
      ]
    }
  ]
}