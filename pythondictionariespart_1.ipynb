{
  "nbformat": 4,
  "nbformat_minor": 0,
  "metadata": {
    "colab": {
      "name": "pythondictionariespart-1.ipynb",
      "provenance": [],
      "authorship_tag": "ABX9TyM3+T5LdjZNuIwkT+Om4SuL",
      "include_colab_link": true
    },
    "kernelspec": {
      "name": "python3",
      "display_name": "Python 3"
    },
    "language_info": {
      "name": "python"
    }
  },
  "cells": [
    {
      "cell_type": "markdown",
      "metadata": {
        "id": "view-in-github",
        "colab_type": "text"
      },
      "source": [
        "<a href=\"https://colab.research.google.com/github/Sampada-1995/Dictionary/blob/main/pythondictionariespart_1.ipynb\" target=\"_parent\"><img src=\"https://colab.research.google.com/assets/colab-badge.svg\" alt=\"Open In Colab\"/></a>"
      ]
    },
    {
      "cell_type": "code",
      "execution_count": 39,
      "metadata": {
        "colab": {
          "base_uri": "https://localhost:8080/",
          "height": 35
        },
        "id": "FSLBcmx_GgpM",
        "outputId": "bda2245b-558f-4018-a379-c9a79e9a6495"
      },
      "outputs": [
        {
          "output_type": "execute_result",
          "data": {
            "application/vnd.google.colaboratory.intrinsic+json": {
              "type": "string"
            },
            "text/plain": [
              "'Gray'"
            ]
          },
          "metadata": {},
          "execution_count": 39
        }
      ],
      "source": [
        "thisdictionary ={\n",
        "    \"Brand\": \"HP\",\n",
        "    \"Model\": \"Core i5\",\n",
        "    \"Color\": \"Gray\"\n",
        "}\n",
        "thisdictionary[\"Color\"]"
      ]
    },
    {
      "cell_type": "code",
      "source": [
        "thisdictionary.keys()"
      ],
      "metadata": {
        "colab": {
          "base_uri": "https://localhost:8080/"
        },
        "id": "ZFBnYtuBJYi3",
        "outputId": "7dd76ff7-f1a9-4159-9c3a-9cb59c51fa0e"
      },
      "execution_count": 10,
      "outputs": [
        {
          "output_type": "execute_result",
          "data": {
            "text/plain": [
              "dict_keys(['Brand', 'Model', 'Color'])"
            ]
          },
          "metadata": {},
          "execution_count": 10
        }
      ]
    },
    {
      "cell_type": "code",
      "source": [
        "thisdictionary.values()"
      ],
      "metadata": {
        "colab": {
          "base_uri": "https://localhost:8080/"
        },
        "id": "HGwnLp30JidV",
        "outputId": "0b00ab4a-f41e-4b28-f3c7-132e9ea7ed82"
      },
      "execution_count": 11,
      "outputs": [
        {
          "output_type": "execute_result",
          "data": {
            "text/plain": [
              "dict_values(['HP', 'Core i5', 'Gray'])"
            ]
          },
          "metadata": {},
          "execution_count": 11
        }
      ]
    },
    {
      "cell_type": "code",
      "source": [
        "thisdictionary[\"Brand\"]=\"Lenovo\"\n",
        "thisdictionary"
      ],
      "metadata": {
        "colab": {
          "base_uri": "https://localhost:8080/"
        },
        "id": "MTOrXtpjJxpn",
        "outputId": "aa320968-fd9f-432b-b910-1e24a852f7dc"
      },
      "execution_count": 14,
      "outputs": [
        {
          "output_type": "execute_result",
          "data": {
            "text/plain": [
              "{'Brand': 'Lenovo', 'Color': 'Gray', 'Model': 'Core i5'}"
            ]
          },
          "metadata": {},
          "execution_count": 14
        }
      ]
    },
    {
      "cell_type": "code",
      "source": [
        "thisdictionary.items()"
      ],
      "metadata": {
        "colab": {
          "base_uri": "https://localhost:8080/"
        },
        "id": "nzClAeL-KJ4f",
        "outputId": "9b20e8aa-8f42-44ec-a6ed-6c2f1d4aa3c2"
      },
      "execution_count": 15,
      "outputs": [
        {
          "output_type": "execute_result",
          "data": {
            "text/plain": [
              "dict_items([('Brand', 'Lenovo'), ('Model', 'Core i5'), ('Color', 'Gray')])"
            ]
          },
          "metadata": {},
          "execution_count": 15
        }
      ]
    },
    {
      "cell_type": "code",
      "source": [
        "thisdictionary.update({\"Brand\":\"ACER\"})\n",
        "thisdictionary"
      ],
      "metadata": {
        "colab": {
          "base_uri": "https://localhost:8080/"
        },
        "id": "KASiYgwEKYX4",
        "outputId": "8c94f01c-f3c9-45b7-a982-109627f6f82a"
      },
      "execution_count": 17,
      "outputs": [
        {
          "output_type": "execute_result",
          "data": {
            "text/plain": [
              "{'Brand': 'ACER', 'Color': 'Gray', 'Model': 'Core i5'}"
            ]
          },
          "metadata": {},
          "execution_count": 17
        }
      ]
    },
    {
      "cell_type": "code",
      "source": [
        "thisdictionary.pop(\"Model\")\n",
        "thisdictionary"
      ],
      "metadata": {
        "colab": {
          "base_uri": "https://localhost:8080/"
        },
        "id": "srPmmCIuK__y",
        "outputId": "8b5c71f3-2291-4149-c265-3c599ab52bb9"
      },
      "execution_count": 20,
      "outputs": [
        {
          "output_type": "execute_result",
          "data": {
            "text/plain": [
              "{'Brand': 'ACER', 'Color': 'Gray'}"
            ]
          },
          "metadata": {},
          "execution_count": 20
        }
      ]
    },
    {
      "cell_type": "code",
      "source": [
        "thisdictionary.popitem()\n",
        "thisdictionary"
      ],
      "metadata": {
        "colab": {
          "base_uri": "https://localhost:8080/"
        },
        "id": "Aj40zGJxLlGX",
        "outputId": "c39507ac-41d0-4f8d-e1fd-f7b96607950a"
      },
      "execution_count": 33,
      "outputs": [
        {
          "output_type": "execute_result",
          "data": {
            "text/plain": [
              "{'Brand': 'HP', 'Model': 'Core i5'}"
            ]
          },
          "metadata": {},
          "execution_count": 33
        }
      ]
    },
    {
      "cell_type": "code",
      "source": [
        "del thisdictionary[\"Model\"]\n",
        "thisdictionary\n"
      ],
      "metadata": {
        "colab": {
          "base_uri": "https://localhost:8080/"
        },
        "id": "-cHmeM-CMATw",
        "outputId": "543818f6-b100-4273-8e59-5c10cf58da8e"
      },
      "execution_count": 38,
      "outputs": [
        {
          "output_type": "execute_result",
          "data": {
            "text/plain": [
              "{'Brand': 'HP', 'Color': 'Gray'}"
            ]
          },
          "metadata": {},
          "execution_count": 38
        }
      ]
    },
    {
      "cell_type": "code",
      "source": [
        "thisdictionary.clear()\n",
        "thisdictionary"
      ],
      "metadata": {
        "colab": {
          "base_uri": "https://localhost:8080/"
        },
        "id": "TR5pw4u8MPHm",
        "outputId": "3d49c26f-5e15-4d32-f38d-4a9235d81fce"
      },
      "execution_count": 40,
      "outputs": [
        {
          "output_type": "execute_result",
          "data": {
            "text/plain": [
              "{}"
            ]
          },
          "metadata": {},
          "execution_count": 40
        }
      ]
    }
  ]
}